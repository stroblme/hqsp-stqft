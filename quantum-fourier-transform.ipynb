{
 "metadata": {
  "language_info": {
   "codemirror_mode": {
    "name": "ipython",
    "version": 3
   },
   "file_extension": ".py",
   "mimetype": "text/x-python",
   "name": "python",
   "nbconvert_exporter": "python",
   "pygments_lexer": "ipython3",
   "version": "3.8.6"
  },
  "orig_nbformat": 2,
  "kernelspec": {
   "name": "python386jvsc74a57bd03aa086ecac20263850e08d395970cd969b157234cab9a0e4094c57f41c2d5289",
   "display_name": "Python 3.8.6 64-bit ('venv': venv)"
  },
  "metadata": {
   "interpreter": {
    "hash": "3aa086ecac20263850e08d395970cd969b157234cab9a0e4094c57f41c2d5289"
   }
  }
 },
 "nbformat": 4,
 "nbformat_minor": 2,
 "cells": [
  {
   "source": [
    "In the computational basis, we store numbers in binary using the states $\\vert 0\\rangle$ and $\\vert 1\\rangle$\n",
    "\n",
    "![](https://qiskit.org/textbook/ch-algorithms/images/zbasis-counting.gif \"computational basis counting\")\n",
    "\n",
    "In fourier basis, we store numbers using different rotations around the z-axis:\n",
    "\n",
    "![](https://qiskit.org/textbook/ch-algorithms/images/fourierbasis-counting.gif \"fourier basis counting\")\n",
    "\n",
    "The QFT transforms between the computational (Z) and the fourier basis\n",
    "\n",
    "$$\n",
    "|\\text{State in Computational Basis}\\rangle \\quad \\xrightarrow[]{\\text{QFT}} \\quad |\\text{State in Fourier Basis}\\rangle\n",
    "$$\n",
    "\n",
    "$$\n",
    "\\text{QFT}|x\\rangle = |\\widetilde{x}\\rangle\n",
    "$$\n",
    "\n",
    "Where the states in fourier basis are denoted with tilde (~)"
   ],
   "cell_type": "markdown",
   "metadata": {}
  }
 ]
}